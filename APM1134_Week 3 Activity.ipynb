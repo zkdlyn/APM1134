{
 "cells": [
  {
   "cell_type": "code",
   "execution_count": 2,
   "metadata": {},
   "outputs": [
    {
     "name": "stdout",
     "output_type": "stream",
     "text": [
      "Optimal value of P: 19.34146341463415\n",
      "Optimal values of a, b, c: [3.63414634 0.24390244 1.80487805]\n"
     ]
    }
   ],
   "source": [
    "from scipy.optimize import linprog\n",
    "\n",
    "# OBJECTIVE VUNC \n",
    "# 3a + 5b + 4c = P\n",
    "c = [-3, -5, -4]  \n",
    "\n",
    "# CONSTRAINTS\n",
    "# 2a + 3b <= 8\n",
    "# 3a + 2b + 2c <= 15\n",
    "# 4b + 5c <= 10\n",
    "A = [[2, 3, 0],  \n",
    "    [3, 2, 2],  \n",
    "    [0, 4, 5]]\n",
    "\n",
    "b = [8, 15, 10]  \n",
    "\n",
    "\n",
    "result = linprog(c, A_ub=A, b_ub=b, bounds=(0, None))\n",
    "\n",
    "\n",
    "print(f\"Optimal value of P: {-result.fun}\")\n",
    "print(f\"Optimal values of a, b, c: {result.x}\")\n",
    "\n"
   ]
  },
  {
   "cell_type": "markdown",
   "metadata": {},
   "source": [
    "The maximum profit the company could expect is approximately Rs. 19.34. Rounding the optimal values of a, b, and c, they could maximize their profit if they process about 4 units of product A and 2 units of product C."
   ]
  },
  {
   "cell_type": "markdown",
   "metadata": {},
   "source": []
  }
 ],
 "metadata": {
  "kernelspec": {
   "display_name": "Python 3",
   "language": "python",
   "name": "python3"
  },
  "language_info": {
   "codemirror_mode": {
    "name": "ipython",
    "version": 3
   },
   "file_extension": ".py",
   "mimetype": "text/x-python",
   "name": "python",
   "nbconvert_exporter": "python",
   "pygments_lexer": "ipython3",
   "version": "3.12.0"
  }
 },
 "nbformat": 4,
 "nbformat_minor": 2
}
